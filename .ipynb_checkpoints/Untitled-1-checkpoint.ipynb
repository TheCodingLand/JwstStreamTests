{
 "cells": [
  {
   "cell_type": "code",
   "execution_count": 1,
   "metadata": {},
   "outputs": [],
   "source": [
    "from jwst.datamodels import ImageModel, CubeModel\n",
    "from glob import glob\n",
    "from jdaviz import Cubeviz"
   ]
  },
  {
   "cell_type": "code",
   "execution_count": 2,
   "metadata": {},
   "outputs": [
    {
     "name": "stdout",
     "output_type": "stream",
     "text": [
      "\u001b[1mroot\u001b[0m (AsdfObject)\n",
      "\u001b[2m├─\u001b[0m\u001b[1masdf_library\u001b[0m (Software)\n",
      "\u001b[2m│ ├─\u001b[0m\u001b[1mauthor\u001b[0m (str): The ASDF Developers\n",
      "\u001b[2m│ ├─\u001b[0m\u001b[1mhomepage\u001b[0m (str): http://github.com/asdf-format/asdf\n",
      "\u001b[2m│ ├─\u001b[0m\u001b[1mname\u001b[0m (str): asdf\n",
      "\u001b[2m│ └─\u001b[0m\u001b[1mversion\u001b[0m (str): 2.12.0\n",
      "\u001b[2m├─\u001b[0m\u001b[1mhistory\u001b[0m (dict)\n",
      "\u001b[2m│ └─\u001b[0m\u001b[1mextensions\u001b[0m (list)\u001b[3m ...\u001b[0m\n",
      "\u001b[2m├─\u001b[0m\u001b[1m_fits_hash\u001b[0m (str): 8c8a278492165442c856016b1ec3f70a1160436330fbd91130aa94a146877a72\n",
      "\u001b[2m├─\u001b[0m\u001b[1mdata\u001b[0m (ndarray): shape=(1, 2048, 2048), dtype=float32\n",
      "\u001b[2m├─\u001b[0m\u001b[1mdq\u001b[0m (ndarray): shape=(1, 2048, 2048), dtype=uint32\n",
      "\u001b[2m├─\u001b[0m\u001b[1merr\u001b[0m (ndarray): shape=(1, 2048, 2048), dtype=float32\n",
      "\u001b[2m├─\u001b[0m\u001b[1mint_times\u001b[0m (FITS_rec): shape=(1,), dtype=record416\n",
      "\u001b[2m├─\u001b[0m\u001b[1mmeta\u001b[0m (dict)\n",
      "\u001b[2m│ ├─\u001b[0m\u001b[1maperture\u001b[0m (dict)\u001b[3m ...\u001b[0m\n",
      "\u001b[2m│ ├─\u001b[0m\u001b[1mbunit_data\u001b[0m (str): DN/s\n",
      "\u001b[2m│ ├─\u001b[0m\u001b[1mbunit_err\u001b[0m (str): DN/s\n",
      "\u001b[2m│ ├─\u001b[0m\u001b[1mcal_step\u001b[0m (dict)\u001b[3m ...\u001b[0m\n",
      "\u001b[2m│ ├─\u001b[0m\u001b[1mcalibration_software_revision\u001b[0m (str): RELEASE\n",
      "\u001b[2m│ ├─\u001b[0m\u001b[1mcalibration_software_version\u001b[0m (str): 1.5.3\n",
      "\u001b[2m│ └─\u001b[0m\u001b[2m\u001b[3m30 not shown\u001b[0m\u001b[0m\n",
      "\u001b[2m├─\u001b[0m\u001b[1mvar_poisson\u001b[0m (ndarray): shape=(1, 2048, 2048), dtype=float32\n",
      "\u001b[2m└─\u001b[0m\u001b[1mvar_rnoise\u001b[0m (ndarray): shape=(1, 2048, 2048), dtype=float32\n",
      "\u001b[2m\u001b[3mSome nodes not shown.\u001b[0m\u001b[0m\n"
     ]
    }
   ],
   "source": [
    "test = glob('./volumes/jwst_data/*/*/*.fits')[50]\n",
    "from jwst import datamodels\n",
    "with datamodels.open(test) as im:\n",
    "    im.info()\n",
    "    assert isinstance(im, datamodels.CubeModel)"
   ]
  },
  {
   "cell_type": "code",
   "execution_count": 7,
   "metadata": {},
   "outputs": [
    {
     "data": {
      "text/plain": [
       "'./volumes/jwst_data/jw02731/jw02731001001/jw02731001001_02101_00001_nrca1_rateints.fits'"
      ]
     },
     "execution_count": 7,
     "metadata": {},
     "output_type": "execute_result"
    }
   ],
   "source": [
    "test"
   ]
  },
  {
   "cell_type": "code",
   "execution_count": 3,
   "metadata": {},
   "outputs": [],
   "source": [
    "viz = Cubeviz()"
   ]
  },
  {
   "cell_type": "code",
   "execution_count": 13,
   "metadata": {},
   "outputs": [
    {
     "name": "stderr",
     "output_type": "stream",
     "text": [
      "2022-07-14 17:35:03,065 - stpipe - WARNING - Input WCS must have exactly one axis with spectral units, found 0\n",
      "2022-07-14 17:35:03,596 - stpipe - WARNING - Input WCS must have exactly one axis with spectral units, found 0\n",
      "2022-07-14 17:35:04,095 - stpipe - WARNING - Missing BUNIT, using count as data unit\n",
      "2022-07-14 17:35:04,119 - stpipe - WARNING - Input WCS must have exactly one axis with spectral units, found 0\n",
      "2022-07-14 17:35:04,129 - stpipe - WARNING - Missing BUNIT, using count as data unit\n",
      "2022-07-14 17:35:04,739 - stpipe - WARNING - Input WCS must have exactly one axis with spectral units, found 0\n",
      "2022-07-14 17:35:04,742 - stpipe - WARNING - Missing BUNIT, using count as data unit\n",
      "2022-07-14 17:35:05,336 - stpipe - WARNING - Input WCS must have exactly one axis with spectral units, found 0\n"
     ]
    }
   ],
   "source": [
    "viz.load_data(test)"
   ]
  },
  {
   "cell_type": "code",
   "execution_count": 14,
   "metadata": {},
   "outputs": [
    {
     "data": {
      "text/plain": [
       "NoneType"
      ]
     },
     "execution_count": 14,
     "metadata": {},
     "output_type": "execute_result"
    }
   ],
   "source": []
  },
  {
   "cell_type": "code",
   "execution_count": 11,
   "metadata": {},
   "outputs": [
    {
     "ename": "RuntimeError",
     "evalue": "Error in displaying Jdaviz",
     "output_type": "error",
     "traceback": [
      "\u001b[0;31m---------------------------------------------------------------------------\u001b[0m",
      "\u001b[0;31mValueError\u001b[0m                                Traceback (most recent call last)",
      "File \u001b[0;32m/usr/local/lib/python3.10/dist-packages/jdaviz/core/helpers.py:339\u001b[0m, in \u001b[0;36mConfigHelper.show\u001b[0;34m(self, loc, title)\u001b[0m\n\u001b[1;32m    338\u001b[0m     \u001b[38;5;28;01melse\u001b[39;00m:\n\u001b[0;32m--> 339\u001b[0m         \u001b[38;5;28;01mraise\u001b[39;00m \u001b[38;5;167;01mValueError\u001b[39;00m(\u001b[38;5;124mf\u001b[39m\u001b[38;5;124m\"\u001b[39m\u001b[38;5;124mUnrecognized display location: \u001b[39m\u001b[38;5;132;01m{\u001b[39;00mloc\u001b[38;5;132;01m}\u001b[39;00m\u001b[38;5;124m\"\u001b[39m)\n\u001b[1;32m    341\u001b[0m \u001b[38;5;28;01mexcept\u001b[39;00m \u001b[38;5;167;01mException\u001b[39;00m \u001b[38;5;28;01mas\u001b[39;00m e:\n",
      "\u001b[0;31mValueError\u001b[0m: Unrecognized display location: ./volumes/jwst_data/jw02731/jw02731001001/jw02731001001_02101_00001_nrca1_rateints.fits",
      "\nThe above exception was the direct cause of the following exception:\n",
      "\u001b[0;31mRuntimeError\u001b[0m                              Traceback (most recent call last)",
      "Input \u001b[0;32mIn [11]\u001b[0m, in \u001b[0;36m<cell line: 1>\u001b[0;34m()\u001b[0m\n\u001b[0;32m----> 1\u001b[0m \u001b[43mviz\u001b[49m\u001b[38;5;241;43m.\u001b[39;49m\u001b[43mshow\u001b[49m\u001b[43m(\u001b[49m\u001b[43mtest\u001b[49m\u001b[43m)\u001b[49m\n",
      "File \u001b[0;32m/usr/local/lib/python3.10/dist-packages/jdaviz/core/helpers.py:342\u001b[0m, in \u001b[0;36mConfigHelper.show\u001b[0;34m(self, loc, title)\u001b[0m\n\u001b[1;32m    339\u001b[0m         \u001b[38;5;28;01mraise\u001b[39;00m \u001b[38;5;167;01mValueError\u001b[39;00m(\u001b[38;5;124mf\u001b[39m\u001b[38;5;124m\"\u001b[39m\u001b[38;5;124mUnrecognized display location: \u001b[39m\u001b[38;5;132;01m{\u001b[39;00mloc\u001b[38;5;132;01m}\u001b[39;00m\u001b[38;5;124m\"\u001b[39m)\n\u001b[1;32m    341\u001b[0m \u001b[38;5;28;01mexcept\u001b[39;00m \u001b[38;5;167;01mException\u001b[39;00m \u001b[38;5;28;01mas\u001b[39;00m e:\n\u001b[0;32m--> 342\u001b[0m     \u001b[38;5;28;01mraise\u001b[39;00m \u001b[38;5;167;01mRuntimeError\u001b[39;00m(\u001b[38;5;124m'\u001b[39m\u001b[38;5;124mError in displaying Jdaviz\u001b[39m\u001b[38;5;124m'\u001b[39m) \u001b[38;5;28;01mfrom\u001b[39;00m \u001b[38;5;21;01me\u001b[39;00m\n",
      "\u001b[0;31mRuntimeError\u001b[0m: Error in displaying Jdaviz"
     ]
    }
   ],
   "source": [
    "viz.load_spectrum(spec3d, data_label='My Cube')\n",
    "viz.show(test)"
   ]
  }
 ],
 "metadata": {
  "kernelspec": {
   "display_name": "Python 3 (ipykernel)",
   "language": "python",
   "name": "python3"
  },
  "language_info": {
   "codemirror_mode": {
    "name": "ipython",
    "version": 3
   },
   "file_extension": ".py",
   "mimetype": "text/x-python",
   "name": "python",
   "nbconvert_exporter": "python",
   "pygments_lexer": "ipython3",
   "version": "3.10.4"
  },
  "vscode": {
   "interpreter": {
    "hash": "916dbcbb3f70747c44a77c7bcd40155683ae19c65e1c03b4aa3499c5328201f1"
   }
  }
 },
 "nbformat": 4,
 "nbformat_minor": 2
}
