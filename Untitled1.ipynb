{
 "cells": [
  {
   "cell_type": "code",
   "execution_count": 1,
   "id": "f7766a3e-d884-4ce9-b77c-639b22c4dfc0",
   "metadata": {},
   "outputs": [],
   "source": [
    "from jdaviz import MosViz"
   ]
  },
  {
   "cell_type": "code",
   "execution_count": 2,
   "id": "da0e9720-7caf-43e4-bf73-3d5bcd285210",
   "metadata": {},
   "outputs": [],
   "source": [
    "app = MosViz()"
   ]
  },
  {
   "cell_type": "code",
   "execution_count": 4,
   "id": "9b02d3d0-4e3e-48db-aa66-d70ab8e24e1e",
   "metadata": {},
   "outputs": [
    {
     "data": {
      "application/vnd.jupyter.widget-view+json": {
       "model_id": "c649cfe400c44cfe9b18b41cc7b805a5",
       "version_major": 2,
       "version_minor": 0
      },
      "text/plain": [
       "Application(config='mosviz', events=['call_viewer_method', 'close_snackbar_message', 'data_item_remove', 'data…"
      ]
     },
     "metadata": {},
     "output_type": "display_data"
    }
   ],
   "source": [
    "app.app"
   ]
  }
 ],
 "metadata": {
  "kernelspec": {
   "display_name": "Python 3 (ipykernel)",
   "language": "python",
   "name": "python3"
  },
  "language_info": {
   "codemirror_mode": {
    "name": "ipython",
    "version": 3
   },
   "file_extension": ".py",
   "mimetype": "text/x-python",
   "name": "python",
   "nbconvert_exporter": "python",
   "pygments_lexer": "ipython3",
   "version": "3.10.4"
  }
 },
 "nbformat": 4,
 "nbformat_minor": 5
}
