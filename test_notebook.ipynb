{
 "cells": [
  {
   "cell_type": "code",
   "execution_count": 1,
   "metadata": {},
   "outputs": [],
   "source": [
    "from jwst.datamodels import ImageModel, CubeModel\n",
    "from glob import glob\n",
    "from jdaviz import Cubeviz"
   ]
  },
  {
   "cell_type": "code",
   "execution_count": null,
   "metadata": {},
   "outputs": [
    {
     "name": "stdout",
     "output_type": "stream",
     "text": [
      "\u001b[1mroot\u001b[0m (AsdfObject)\n",
      "\u001b[2m├─\u001b[0m\u001b[1masdf_library\u001b[0m (Software)\n",
      "\u001b[2m│ ├─\u001b[0m\u001b[1mauthor\u001b[0m (str): The ASDF Developers\n",
      "\u001b[2m│ ├─\u001b[0m\u001b[1mhomepage\u001b[0m (str): http://github.com/asdf-format/asdf\n",
      "\u001b[2m│ ├─\u001b[0m\u001b[1mname\u001b[0m (str): asdf\n",
      "\u001b[2m│ └─\u001b[0m\u001b[1mversion\u001b[0m (str): 2.12.0\n",
      "\u001b[2m├─\u001b[0m\u001b[1mhistory\u001b[0m (dict)\n",
      "\u001b[2m│ └─\u001b[0m\u001b[1mextensions\u001b[0m (list)\u001b[3m ...\u001b[0m\n",
      "\u001b[2m├─\u001b[0m\u001b[1m_fits_hash\u001b[0m (str): c38f280369f8838526bb1bdf5851daa07e343b71613961fb6cab844efe8d3081\n",
      "\u001b[2m├─\u001b[0m\u001b[1mdata\u001b[0m (ndarray): shape=(1, 6, 2048, 2048), dtype=uint16\n",
      "\u001b[2m├─\u001b[0m\u001b[1mgroup\u001b[0m (FITS_rec): shape=(7,), dtype=record784\n",
      "\u001b[2m├─\u001b[0m\u001b[1mint_times\u001b[0m (FITS_rec): shape=(1,), dtype=record416\n",
      "\u001b[2m├─\u001b[0m\u001b[1mmeta\u001b[0m (dict)\n",
      "\u001b[2m│ ├─\u001b[0m\u001b[1maperture\u001b[0m (dict)\u001b[3m ...\u001b[0m\n",
      "\u001b[2m│ ├─\u001b[0m\u001b[1mbunit_data\u001b[0m (str): DN\n",
      "\u001b[2m│ ├─\u001b[0m\u001b[1mcoordinates\u001b[0m (dict)\u001b[3m ...\u001b[0m\n",
      "\u001b[2m│ ├─\u001b[0m\u001b[1mdata_processing_software_version\u001b[0m (str): 2022_2a\n",
      "\u001b[2m│ ├─\u001b[0m\u001b[1mdate\u001b[0m (str): 2022-07-12T16:55:04.211\n",
      "\u001b[2m│ ├─\u001b[0m\u001b[1mdither\u001b[0m (dict)\u001b[3m ...\u001b[0m\n",
      "\u001b[2m│ ├─\u001b[0m\u001b[1mephemeris\u001b[0m (dict)\u001b[3m ...\u001b[0m\n",
      "\u001b[2m│ └─\u001b[0m\u001b[2m\u001b[3m25 not shown\u001b[0m\u001b[0m\n",
      "\u001b[2m├─\u001b[0m\u001b[1mzeroframe\u001b[0m (ndarray): shape=(1, 2048, 2048), dtype=uint16\n",
      "\u001b[2m└─\u001b[0m\u001b[1mextra_fits\u001b[0m (dict)\u001b[3m ...\u001b[0m\n",
      "\u001b[2m\u001b[3mSome nodes not shown.\u001b[0m\u001b[0m\n"
     ]
    },
    {
     "ename": "AssertionError",
     "evalue": "",
     "output_type": "error",
     "traceback": [
      "\u001b[0;31m---------------------------------------------------------------------------\u001b[0m",
      "\u001b[0;31mAssertionError\u001b[0m                            Traceback (most recent call last)",
      "Input \u001b[0;32mIn [15]\u001b[0m, in \u001b[0;36m<cell line: 3>\u001b[0;34m()\u001b[0m\n\u001b[1;32m      3\u001b[0m \u001b[38;5;28;01mwith\u001b[39;00m datamodels\u001b[38;5;241m.\u001b[39mopen(test) \u001b[38;5;28;01mas\u001b[39;00m im:\n\u001b[1;32m      4\u001b[0m     im\u001b[38;5;241m.\u001b[39minfo()\n\u001b[0;32m----> 5\u001b[0m     \u001b[38;5;28;01massert\u001b[39;00m \u001b[38;5;28misinstance\u001b[39m(im, datamodels\u001b[38;5;241m.\u001b[39mCubeModel)\n",
      "\u001b[0;31mAssertionError\u001b[0m: "
     ]
    }
   ],
   "source": [
    "test = glob('./volumes/jwst_data/*/*/*.fits')[50]\n",
    "from jwst import datamodels\n",
    "with datamodels.open(test) as im:\n",
    "    im.info()\n",
    "    assert isinstance(im, datamodels.CubeModel)"
   ]
  }
 ],
 "metadata": {
  "kernelspec": {
   "display_name": "Python 3 (ipykernel)",
   "language": "python",
   "name": "python3"
  },
  "language_info": {
   "codemirror_mode": {
    "name": "ipython",
    "version": 3
   },
   "file_extension": ".py",
   "mimetype": "text/x-python",
   "name": "python",
   "nbconvert_exporter": "python",
   "pygments_lexer": "ipython3",
   "version": "3.10.4"
  },
  "vscode": {
   "interpreter": {
    "hash": "916dbcbb3f70747c44a77c7bcd40155683ae19c65e1c03b4aa3499c5328201f1"
   }
  }
 },
 "nbformat": 4,
 "nbformat_minor": 2
}
